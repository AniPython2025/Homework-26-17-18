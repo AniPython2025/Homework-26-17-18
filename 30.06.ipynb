{
 "cells": [
  {
   "cell_type": "code",
   "execution_count": null,
   "id": "927df7a6-a507-4b5b-969e-47bc1ee2456c",
   "metadata": {},
   "outputs": [],
   "source": [
    "###26-1․ Գրել ֆունկցիա, որը․\n",
    "###  - որպես արգումենտ կընդունի շրջանագծի շառավիղը (r) և սեկտորի անկյունը (alpha) ռադիաններով արտահայտված,\n",
    "###   - կհաշվի և կտպի համապատասխան շառավղով և անկյունով սեկտորի մակերեսը,\n",
    "###   - բանաձևը՝ S = (pi * r ** 2) * alpha / 360, բանաձևի մեջ alpha-ն արտահայտված է աստիճաններով։"
   ]
  },
  {
   "cell_type": "code",
   "execution_count": 21,
   "id": "af461383-2211-4260-acba-310ab78bd0ac",
   "metadata": {},
   "outputs": [
    {
     "name": "stdout",
     "output_type": "stream",
     "text": [
      "19.634954084936208\n"
     ]
    }
   ],
   "source": [
    "# import math\n",
    "# def sector_s(r,alpha_radian):\n",
    "#      alpha = math.degrees(alpha_radian)\n",
    "#      sector_area = (math.pi * r ** 2) * alpha / 360\n",
    "#      return sector_area\n",
    "# print(sector_s(5, math.pi/2))"
   ]
  },
  {
   "cell_type": "code",
   "execution_count": null,
   "id": "70b1a7d4-e9e0-4319-841a-918b1f32c3b0",
   "metadata": {},
   "outputs": [],
   "source": [
    "###26-2․ Գրել ֆունկցիա, որը․\n",
    "###   - կստանա արգումենտ արաբական բնական թիվ (0-ից մեծ),\n",
    "###   - կվերադրձնի այդ թիվը հռոմեական տեսքով,\n",
    "\n",
    "###   հռոմեական թվերի համարժեքները՝ I-1, V-5, X-10, L-50, C-100, D-500, M-1000,\n",
    "\n",
    "###  օրինակ՝ 15 -> XV,\n",
    "###           72 -> LXXII,\n",
    "###           9 -> IX:"
   ]
  },
  {
   "cell_type": "code",
   "execution_count": 17,
   "id": "7e874f74-adba-4fd7-b39a-c1d0aaf51b4a",
   "metadata": {},
   "outputs": [
    {
     "name": "stdout",
     "output_type": "stream",
     "text": [
      "LXXII\n"
     ]
    }
   ],
   "source": [
    "# def arab_to_roman(num):\n",
    "#     roman = { 1: 'I', 4: 'IV', 5: 'V', 9: 'IX', 10: 'X', 40: 'XL', 50: 'L', 90: 'XC', 100: 'C', 400: 'CD', 500: 'D', 900: 'CM', 1000: 'M'}\n",
    "#     i = 12\n",
    "#     final = \"\"\n",
    "#     while num > 0:\n",
    "#         for _ in range(num // list(roman.keys())[i]):\n",
    "#             final += list(roman.values())[i]\n",
    "#             num -= list(roman.keys())[i]\n",
    "#         i -= 1\n",
    "#     return final\n",
    "\n",
    "# print(arab_to_roman(72))\n"
   ]
  },
  {
   "cell_type": "code",
   "execution_count": null,
   "id": "25db4d40-6825-4f2e-9e5b-317cbb6625cb",
   "metadata": {},
   "outputs": [],
   "source": [
    "# 26-3․ Գրել ֆունկցիա, որը․\n",
    "#    - տրված բառերի list-ը կֆիլտրի այնպես, որ կթողի միայն ամենաերկար բառերը\n",
    "#      (այսինքն՝ կգտնի ամենաերկար բառի երկարությունը և լիստում կթողնի միայն այդ երկարության բառերը),\n",
    "#    օրինակ՝ input = [\"aba\", \"aa\", \"z\", \"ad\", \"vcd\", \"aba\"]\n",
    "#            output = [\"aba\", \"vcd\", \"aba\"],\n",
    "           \n",
    "#            input = [\"aba\", \"aa\", \"z\", \"advc\", \"vcd\", \"aba\"]\n",
    "#            output = [\"advc\"]"
   ]
  },
  {
   "cell_type": "code",
   "execution_count": 23,
   "id": "ff33b4cf-bc28-4437-b788-32175461ea65",
   "metadata": {},
   "outputs": [
    {
     "name": "stdout",
     "output_type": "stream",
     "text": [
      "['aba', 'vcd', 'aba']\n"
     ]
    }
   ],
   "source": [
    "# def search_longest_word(word_list):\n",
    "#   l_1 = max(map(len, word_list))\n",
    "#   l_2 = [word for word in word_list if len(word) == l_1]\n",
    "#   return l_2\n",
    "# word_list = [\"aba\", \"aa\", \"z\", \"ad\", \"vcd\", \"aba\"]\n",
    "# print(search_longest_word(word_list ))"
   ]
  },
  {
   "cell_type": "code",
   "execution_count": null,
   "id": "8b1c3754-3de9-42ad-a2c8-990df9ef0bdd",
   "metadata": {},
   "outputs": [],
   "source": [
    "# 17-1․ Գրել ծրագիր, որը․\n",
    "#    - կունենա անուններից կազմված list,\n",
    "#    - հերթով կտպի այն անունները, որոնց երկարությունը 5-ից մեծ չէ,\n",
    "#    - ամեն անունը տպելուց հետո հաջորդ անունը կտպի 2 վայրկյան հետո։"
   ]
  },
  {
   "cell_type": "code",
   "execution_count": 2,
   "id": "2bf053a2-5050-408f-b09b-7e083d61bc68",
   "metadata": {},
   "outputs": [
    {
     "name": "stdout",
     "output_type": "stream",
     "text": [
      "Anna\n",
      "Gor\n",
      "Olga\n"
     ]
    }
   ],
   "source": [
    "# import time\n",
    "# anunner = [\"Levon\", \"Karen\", \"Anna\", \"Gor\", \"Haykanush\", \"Olga\"]\n",
    "# for i in anunner:\n",
    "#     if len(i) < 5:\n",
    "#         print(i)\n",
    "#         time.sleep(2)"
   ]
  },
  {
   "cell_type": "code",
   "execution_count": null,
   "id": "20dc70fa-3dc1-4a4c-bd47-09864c472008",
   "metadata": {},
   "outputs": [],
   "source": [
    "# 17-2. Գրել ֆունկցիա, որը․\n",
    "#    - կունենա մեկ արգումենտ, որը կլինի դրական ամբողջ թիվ,\n",
    "#    - եթե թվի թվանշանների քանակը զույգ է, կստուգի արդյոք թվի առաջին կեսի թվանշանների գումարը հավասար է երկրորդ կեսի թվանշանների գումարին, թե ոչ,\n",
    "#    - եթե թվի թվանշանների քանակը կենտ է, կստուգի նախորդ պայմանի ճշտությունը, ապա կստուգի նաև մեջտեղի թվանշանի զույգ և կենտ լինելը,\n",
    "#      եթե զույգ է, կտպի True, եթե կենտ՝ False,\n",
    "#    օրինակ՝ 1238 -> False, քանի որ 1+2 != 3+8\n",
    "#            1845 -> True, քանի որ 1+8 = 4+5\n",
    "#            18545 -> False, քանի որ 1+8 = 4+5 և 5-կենտ է,\n",
    "#            48257 -> True, քանի որ 4+8 = 5+7 և 2-զույգ է։\n"
   ]
  },
  {
   "cell_type": "code",
   "execution_count": 6,
   "id": "74bd65c6-75e0-4458-8c04-69b350b38612",
   "metadata": {},
   "outputs": [
    {
     "name": "stdout",
     "output_type": "stream",
     "text": [
      "False\n",
      "True\n",
      "False\n",
      "True\n"
     ]
    }
   ],
   "source": [
    "# def check(num):\n",
    "#     num = str(num)\n",
    "#     lenght = len(num)\n",
    "#     half = lenght // 2\n",
    "\n",
    "#     first_half = num[:half]\n",
    "#     second_half = num[-half:]\n",
    "\n",
    "#     sum_1 = sum(int(i) for i in first_half)\n",
    "#     sum_2 = sum(int(i) for i in second_half)\n",
    "#     if sum_1 != sum_2:\n",
    "#         return False\n",
    "\n",
    "#     if lenght % 2 == 1:\n",
    "#         avrg = int(num[half])\n",
    "#         return  avrg % 2 == 0\n",
    "\n",
    "#     return True\n",
    "\n",
    "# print(check(1238))\n",
    "# print(check(1845))\n",
    "# print(check(18545))\n",
    "# print(check(48257))"
   ]
  },
  {
   "cell_type": "code",
   "execution_count": null,
   "id": "b153a1bb-b12c-46d0-bac8-79d79ab69910",
   "metadata": {},
   "outputs": [],
   "source": [
    "# 17-3․ Գրել պարային զույգեր կազմելու ծրագիր, որը․\n",
    "#    - կունենա երկու անունների list, list-երի երկարությունները կարող են տարբեր լինել,\n",
    "#    օրինակ՝ girls = ['Gohar', 'Ani', 'Tatev']\n",
    "#            boys = ['Gor', 'Vahe', 'Vardan', 'Karen', 'Ashot']\n",
    "#    - պատահականության սկզբունքով կտպի պարային զույգեր list-երից \n",
    "#      փոքրագույն երկարություն ունեցողի քանակությամբ (անունները չպետք է կրկնվեն),\n",
    "#    տվյալ օրինակի դեպքում կտպի՝ Gohar - Ashot\n",
    "#                                Ani - Gor\n",
    "#                                Tatev - Karen։"
   ]
  },
  {
   "cell_type": "code",
   "execution_count": 7,
   "id": "d823b9a9-2674-4a7e-bf21-c115540f474c",
   "metadata": {},
   "outputs": [
    {
     "name": "stdout",
     "output_type": "stream",
     "text": [
      "Vera - Shavarsh\n",
      "Alin - Dmitri\n",
      "Karina - Sahak\n",
      "Vera - Sahak\n",
      "Karina - Suren\n",
      "Alin - Dmitri\n"
     ]
    }
   ],
   "source": [
    "# import  random\n",
    "# girls = [\"Alin\", \"Karina\", \"Vera\"]\n",
    "# boys = [\"Karen\", \"Suren\", \"Sahak\", \"Dmitri\", \"Shavarsh\"]\n",
    "\n",
    "# a = min(len(girls), len(boys))\n",
    "# g = random.sample(girls, k=a)\n",
    "# b = random.sample(boys, k=a)\n",
    "# for i in range(a):\n",
    "#     print(g[i], \"-\", b[i])\n",
    "\n",
    "# random.shuffle(girls)\n",
    "# random.shuffle(boys)\n",
    "# for g, b in zip(girls, boys):\n",
    "#     print(g, \"-\", b)"
   ]
  },
  {
   "cell_type": "code",
   "execution_count": null,
   "id": "ca8ad8c3-a40e-42bc-8c04-cb6f97e7abd7",
   "metadata": {},
   "outputs": [],
   "source": [
    "# 17-4․ Գրել ծրագիր, որը․\n",
    "#    - կստանա 3 արգումենտ՝ տարի, ամիս, օր,\n",
    "#    - կտպի թե նշված օրն շաբաթվա որ օրն է։"
   ]
  },
  {
   "cell_type": "code",
   "execution_count": 10,
   "id": "8c149688-8e14-4312-a9af-1df4362b30b7",
   "metadata": {},
   "outputs": [
    {
     "name": "stdout",
     "output_type": "stream",
     "text": [
      "6\n"
     ]
    }
   ],
   "source": [
    "# import datetime\n",
    "# date = datetime.datetime(2025, 6, 29)\n",
    "# print(date.weekday())"
   ]
  },
  {
   "cell_type": "code",
   "execution_count": null,
   "id": "c03f84b9-0595-4b20-ac5d-bfe24372fc66",
   "metadata": {},
   "outputs": [],
   "source": [
    "# 18-1․ Գրել ֆունկցիա, որը․\n",
    "#    - կստանա արգումենտ մեքենայի արագությունը մղոն/ժ,\n",
    "#    - կվերադարձնի մեքենայի արագությունը կմ/ժ և մ/վ տեսքով։"
   ]
  },
  {
   "cell_type": "code",
   "execution_count": null,
   "id": "28aa046d-7865-404f-9608-645016fee919",
   "metadata": {},
   "outputs": [],
   "source": [
    "# def miph_to_kph(miph):\n",
    "#    return miph // 0.6214\n",
    "# print(\"speed_in_miph = \", int(miph_to_kph(60)))"
   ]
  },
  {
   "cell_type": "code",
   "execution_count": null,
   "id": "08328fcf-196d-42bf-86c9-62d7553eca2f",
   "metadata": {},
   "outputs": [],
   "source": [
    "# def miph_to_mps(miph):\n",
    "#    return miph * 0.44704\n",
    "# print(\"speed_in_mps = \", int(miph_to_mps(60)))"
   ]
  },
  {
   "cell_type": "code",
   "execution_count": null,
   "id": "7cb6b4c0-f2fa-4ae5-bddf-1c0491ae61b4",
   "metadata": {},
   "outputs": [],
   "source": [
    "# 18-2. Գրել ֆունկցիա, որը․\n",
    "#    - կհաշվի 1-ից 100_000_000 միջակայքում գտնվող 3-ի բաժանվող թվերի քանակը,\n",
    "#    - կտպի այդ ֆունկցիայի կատարման ժամանակը վայրկյաններով։"
   ]
  },
  {
   "cell_type": "code",
   "execution_count": 11,
   "id": "172b0259-8e9f-4554-b08a-dfe9eabcae42",
   "metadata": {},
   "outputs": [
    {
     "name": "stdout",
     "output_type": "stream",
     "text": [
      "3i bajanvox: 333333333333\n",
      "0.0005898475646972656 seconds\n"
     ]
    }
   ],
   "source": [
    "# import time\n",
    "# def div_by_3(end):\n",
    "#     # return len(range(3, end+1, 3))\n",
    "#     return end // 3\n",
    "\n",
    "\n",
    "# t = time.time()\n",
    "\n",
    "# result = div_by_3(1_000_000_000_000)\n",
    "# print(f\"3i bajanvox: {result}\")\n",
    "\n",
    "# print(time.time() - t, \"seconds\")"
   ]
  },
  {
   "cell_type": "code",
   "execution_count": null,
   "id": "e84101cf-1eb2-404c-874d-c4cc91153795",
   "metadata": {},
   "outputs": [],
   "source": [
    "# 18-3․ Գրել ծրագիր, որը․\n",
    "#    - կունենա թվերից բաղկացած list,\n",
    "#    - list-ը կբաժանի 2 list-երի այնպես, \n",
    "#      որ առաջին list-ում կլինեն նախնական list-ի առաջին, երրորդ, հինգերորդ և այլն էլեմենտները,\n",
    "#      իսկ երկրորդ list-ում՝ երկրորդ, չորորդ, վեցերորդ և այլն էլեմենտները,\n",
    "#    - կհաշվի և tuple-ով կտպի այդ list-երի միջին թվաբանականները,\n",
    "#    օրինակ՝ list_1 = [50, 60, 60, 45, 70]\n",
    "#    պետք է ստացվի՝ (60, 52.5):"
   ]
  },
  {
   "cell_type": "code",
   "execution_count": 12,
   "id": "6c94302e-f41f-4581-903f-af946fce49a6",
   "metadata": {},
   "outputs": [
    {
     "name": "stdout",
     "output_type": "stream",
     "text": [
      "[50, 60, 70]\n",
      "[60, 45]\n",
      "(60.0, 52.5)\n"
     ]
    }
   ],
   "source": [
    "# l = [50, 60, 60, 45, 70]\n",
    "# list_1 = l[::2]\n",
    "# list_2 = l[1::2]\n",
    "# mijin_tv = tuple(sum(col)/ len(col) for col in [list_1, list_2])\n",
    "# print(list_1)\n",
    "# print(list_2)\n",
    "# print(mijin_tv)\n"
   ]
  },
  {
   "cell_type": "code",
   "execution_count": null,
   "id": "09c964c4-8cb1-4311-bd91-0ede0fdc54e3",
   "metadata": {},
   "outputs": [],
   "source": []
  }
 ],
 "metadata": {
  "kernelspec": {
   "display_name": "Python 3 (ipykernel)",
   "language": "python",
   "name": "python3"
  },
  "language_info": {
   "codemirror_mode": {
    "name": "ipython",
    "version": 3
   },
   "file_extension": ".py",
   "mimetype": "text/x-python",
   "name": "python",
   "nbconvert_exporter": "python",
   "pygments_lexer": "ipython3",
   "version": "3.13.3"
  }
 },
 "nbformat": 4,
 "nbformat_minor": 5
}
